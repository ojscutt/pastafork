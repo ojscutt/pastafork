{
 "cells": [
  {
   "cell_type": "markdown",
   "id": "118ad08c-0845-4fe0-832b-8d48679823ee",
   "metadata": {},
   "source": [
    "# import json and perturb"
   ]
  },
  {
   "cell_type": "code",
   "execution_count": 1,
   "id": "75515d07-6c40-44ae-8bd4-f8ea629cf52a",
   "metadata": {},
   "outputs": [],
   "source": [
    "import json\n",
    "import numpy as np\n",
    "import pandas as pd\n",
    "import pickle\n",
    "import scipy\n",
    "from scipy import constants\n",
    "import os, sys\n",
    "from cmcrameri import cm\n",
    "\n",
    "##plotting\n",
    "import matplotlib.pyplot as plt\n",
    "from matplotlib.lines import Line2D\n",
    "import corner\n",
    "plt.style.use(\"Solarize_Light2\")\n",
    "plt.rcParams.update({\"axes.edgecolor\": \"black\"})\n",
    "plt.rcParams.update({\"text.color\": \"black\"})\n",
    "plt.rcParams.update({\"axes.labelcolor\": \"black\"})\n",
    "plt.rcParams.update({\"xtick.color\": \"black\"})\n",
    "plt.rcParams.update({\"ytick.color\": \"black\"})\n",
    "plt.rcParams.update({\"font.family\": \"monospace\"})"
   ]
  },
  {
   "cell_type": "code",
   "execution_count": 2,
   "id": "75c2db7d-0c42-41e1-a814-27e513d65c68",
   "metadata": {},
   "outputs": [],
   "source": [
    "def obs_noise(true, unc):\n",
    "    noisy_obs = scipy.stats.norm(loc=true, scale=unc).rvs()\n",
    "    return noisy_obs"
   ]
  },
  {
   "cell_type": "code",
   "execution_count": 26,
   "id": "4aeb145d-752c-4b32-b2fe-504018db5d92",
   "metadata": {},
   "outputs": [],
   "source": [
    "with open(f'powerpuff/powerpuff.json') as f:\n",
    "    star = json.load(f)\n",
    "\n",
    "calc_effective_T = star['calc_effective_T'][0]\n",
    "calc_effective_T_err = star['calc_effective_T'][1]\n",
    "\n",
    "luminosity = star['luminosity'][0]\n",
    "luminosity_err = star['luminosity'][1]\n",
    "\n",
    "star_feh = star['star_feh'][0]\n",
    "star_feh_err = star['star_feh'][1]\n",
    "\n",
    "for obs_idx in range(5):\n",
    "    obs_dict = {}\n",
    "    \n",
    "    obs_calc_effective_T = obs_noise(calc_effective_T, calc_effective_T_err)\n",
    "    obs_dict['calc_effective_T'] = [obs_calc_effective_T, calc_effective_T_err]\n",
    "\n",
    "    obs_luminosity = obs_noise(luminosity, luminosity_err)\n",
    "    obs_dict['luminosity'] = [obs_luminosity, luminosity_err]\n",
    "\n",
    "    obs_star_feh = obs_noise(star_feh, star_feh_err)\n",
    "    obs_dict['star_feh'] = [obs_star_feh, star_feh_err]\n",
    "\n",
    "    with open(f'powerpuff/obs{obs_idx}/obs{obs_idx}.json', 'w') as fp:\n",
    "        json.dump(obs_dict, fp)\n",
    "    "
   ]
  },
  {
   "cell_type": "code",
   "execution_count": 7,
   "id": "d055026f-88a0-4f39-ae04-a212b708eedd",
   "metadata": {},
   "outputs": [],
   "source": [
    "def json_to_obs(star_name, obs_idx):\n",
    "    \n",
    "    with open(f'powerpuff/{star_name}/{star_name}_l0.json') as f:\n",
    "        star_l0 = json.load(f)\n",
    "\n",
    "    with open(f'powerpuff/{star_name}/{star_name}_l012.json') as f:\n",
    "        star_l02 = json.load(f)\n",
    "    \n",
    "    ## generate dict\n",
    "    with open(f'powerpuff/obs{obs_idx}/obs{obs_idx}.json') as f:\n",
    "        obs_dict = json.load(f)\n",
    "    \n",
    "\n",
    "    star_l0['calc_effective_T'] = obs_dict['calc_effective_T']\n",
    "    star_l02['calc_effective_T'] = obs_dict['calc_effective_T']\n",
    "\n",
    "    star_l0['luminosity'] = obs_dict['luminosity']\n",
    "    star_l02['luminosity'] = obs_dict['luminosity']    \n",
    "\n",
    "    star_l0['star_feh'] = obs_dict['star_feh']\n",
    "    star_l02['star_feh'] = obs_dict['star_feh']\n",
    "\n",
    "    os.makedirs(f'powerpuff/{star_name}/obs{obs_idx}', exist_ok=True)\n",
    "    \n",
    "    with open(f'powerpuff/{star_name}/obs{obs_idx}/obs{obs_idx}_l0.json', 'w') as fp:\n",
    "        json.dump(star_l0, fp)\n",
    "\n",
    "    with open(f'powerpuff/{star_name}/obs{obs_idx}/obs{obs_idx}_l012.json', 'w') as fp:\n",
    "        json.dump(star_l02, fp)"
   ]
  },
  {
   "cell_type": "code",
   "execution_count": 10,
   "id": "ab43218f-3270-4a51-8102-880e80dd2596",
   "metadata": {},
   "outputs": [],
   "source": [
    "for obs_idx in range(5):\n",
    "    json_to_obs('bubbles',obs_idx)"
   ]
  },
  {
   "cell_type": "code",
   "execution_count": null,
   "id": "87cbb0af-a8e7-4825-8e0e-d8ffc3bee84a",
   "metadata": {},
   "outputs": [],
   "source": []
  }
 ],
 "metadata": {
  "kernelspec": {
   "display_name": "Python 3 (ipykernel)",
   "language": "python",
   "name": "python3"
  },
  "language_info": {
   "codemirror_mode": {
    "name": "ipython",
    "version": 3
   },
   "file_extension": ".py",
   "mimetype": "text/x-python",
   "name": "python",
   "nbconvert_exporter": "python",
   "pygments_lexer": "ipython3",
   "version": "3.12.5"
  }
 },
 "nbformat": 4,
 "nbformat_minor": 5
}
